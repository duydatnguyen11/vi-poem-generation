{
 "cells": [
  {
   "cell_type": "markdown",
   "metadata": {},
   "source": [
    "1. Import libraries"
   ]
  },
  {
   "cell_type": "code",
   "execution_count": 1,
   "metadata": {},
   "outputs": [],
   "source": [
    "import pandas as pd"
   ]
  },
  {
   "cell_type": "code",
   "execution_count": null,
   "metadata": {},
   "outputs": [],
   "source": []
  },
  {
   "cell_type": "markdown",
   "metadata": {},
   "source": [
    "2. Prepare dataset"
   ]
  },
  {
   "cell_type": "code",
   "execution_count": 9,
   "metadata": {},
   "outputs": [
    {
     "data": {
      "text/html": [
       "<div>\n",
       "<style scoped>\n",
       "    .dataframe tbody tr th:only-of-type {\n",
       "        vertical-align: middle;\n",
       "    }\n",
       "\n",
       "    .dataframe tbody tr th {\n",
       "        vertical-align: top;\n",
       "    }\n",
       "\n",
       "    .dataframe thead th {\n",
       "        text-align: right;\n",
       "    }\n",
       "</style>\n",
       "<table border=\"1\" class=\"dataframe\">\n",
       "  <thead>\n",
       "    <tr style=\"text-align: right;\">\n",
       "      <th></th>\n",
       "      <th>Title</th>\n",
       "      <th>Content</th>\n",
       "      <th>Poetry Collection</th>\n",
       "      <th>URL</th>\n",
       "    </tr>\n",
       "  </thead>\n",
       "  <tbody>\n",
       "    <tr>\n",
       "      <th>0</th>\n",
       "      <td>Ở lại đi!</td>\n",
       "      <td>Nơi này còn một câu chuyện vui chưa hết\\ntiếng...</td>\n",
       "      <td>Đi qua thương nhớ (2012)</td>\n",
       "      <td>https://www.thivien.net/Nguy%E1%BB%85n-Phong-V...</td>\n",
       "    </tr>\n",
       "    <tr>\n",
       "      <th>1</th>\n",
       "      <td>Không phải lỗi của hoa hồng vàng</td>\n",
       "      <td>Một ngày tình yêu gõ cửa\\ncủa ngôi nhà có hoa ...</td>\n",
       "      <td>Đi qua thương nhớ (2012)</td>\n",
       "      <td>https://www.thivien.net/Nguy%E1%BB%85n-Phong-V...</td>\n",
       "    </tr>\n",
       "    <tr>\n",
       "      <th>2</th>\n",
       "      <td>Chỉ những chiếc lá mới biết</td>\n",
       "      <td>Có những năm tháng của chúng ta\\nrơi theo mùa ...</td>\n",
       "      <td>Đi qua thương nhớ (2012)</td>\n",
       "      <td>https://www.thivien.net/Nguy%E1%BB%85n-Phong-V...</td>\n",
       "    </tr>\n",
       "    <tr>\n",
       "      <th>3</th>\n",
       "      <td>Chưa bao giờ và không bao giờ</td>\n",
       "      <td>Chưa bao giờ và không bao giờ ta biết.\\nTrí nh...</td>\n",
       "      <td>Đi qua thương nhớ (2012)</td>\n",
       "      <td>https://www.thivien.net/Nguy%E1%BB%85n-Phong-V...</td>\n",
       "    </tr>\n",
       "    <tr>\n",
       "      <th>4</th>\n",
       "      <td>Nếu không muốn đi hết con đường...</td>\n",
       "      <td>Nếu không muốn đi hết con đường...\\nThì nên dừ...</td>\n",
       "      <td>Đi qua thương nhớ (2012)</td>\n",
       "      <td>https://www.thivien.net/Nguy%E1%BB%85n-Phong-V...</td>\n",
       "    </tr>\n",
       "  </tbody>\n",
       "</table>\n",
       "</div>"
      ],
      "text/plain": [
       "                                Title  \\\n",
       "0                           Ở lại đi!   \n",
       "1    Không phải lỗi của hoa hồng vàng   \n",
       "2         Chỉ những chiếc lá mới biết   \n",
       "3       Chưa bao giờ và không bao giờ   \n",
       "4  Nếu không muốn đi hết con đường...   \n",
       "\n",
       "                                             Content  \\\n",
       "0  Nơi này còn một câu chuyện vui chưa hết\\ntiếng...   \n",
       "1  Một ngày tình yêu gõ cửa\\ncủa ngôi nhà có hoa ...   \n",
       "2  Có những năm tháng của chúng ta\\nrơi theo mùa ...   \n",
       "3  Chưa bao giờ và không bao giờ ta biết.\\nTrí nh...   \n",
       "4  Nếu không muốn đi hết con đường...\\nThì nên dừ...   \n",
       "\n",
       "          Poetry Collection                                                URL  \n",
       "0  Đi qua thương nhớ (2012)  https://www.thivien.net/Nguy%E1%BB%85n-Phong-V...  \n",
       "1  Đi qua thương nhớ (2012)  https://www.thivien.net/Nguy%E1%BB%85n-Phong-V...  \n",
       "2  Đi qua thương nhớ (2012)  https://www.thivien.net/Nguy%E1%BB%85n-Phong-V...  \n",
       "3  Đi qua thương nhớ (2012)  https://www.thivien.net/Nguy%E1%BB%85n-Phong-V...  \n",
       "4  Đi qua thương nhớ (2012)  https://www.thivien.net/Nguy%E1%BB%85n-Phong-V...  "
      ]
     },
     "execution_count": 9,
     "metadata": {},
     "output_type": "execute_result"
    }
   ],
   "source": [
    "dataset_path = \"/home/duydat/project_capstone/dataset/npv_poem.csv\"\n",
    "dataset = pd.read_csv(dataset_path,names=['Title','Content', 'Poetry Collection', 'URL'])\n",
    "dataset.head(5)"
   ]
  },
  {
   "cell_type": "code",
   "execution_count": 11,
   "metadata": {},
   "outputs": [
    {
     "name": "stdout",
     "output_type": "stream",
     "text": [
      "<class 'pandas.core.frame.DataFrame'>\n",
      "RangeIndex: 339 entries, 0 to 338\n",
      "Data columns (total 4 columns):\n",
      " #   Column             Non-Null Count  Dtype \n",
      "---  ------             --------------  ----- \n",
      " 0   Title              339 non-null    object\n",
      " 1   Content            339 non-null    object\n",
      " 2   Poetry Collection  339 non-null    object\n",
      " 3   URL                339 non-null    object\n",
      "dtypes: object(4)\n",
      "memory usage: 10.7+ KB\n"
     ]
    }
   ],
   "source": [
    "dataset.info()"
   ]
  },
  {
   "cell_type": "code",
   "execution_count": 12,
   "metadata": {},
   "outputs": [
    {
     "data": {
      "text/html": [
       "<div>\n",
       "<style scoped>\n",
       "    .dataframe tbody tr th:only-of-type {\n",
       "        vertical-align: middle;\n",
       "    }\n",
       "\n",
       "    .dataframe tbody tr th {\n",
       "        vertical-align: top;\n",
       "    }\n",
       "\n",
       "    .dataframe thead th {\n",
       "        text-align: right;\n",
       "    }\n",
       "</style>\n",
       "<table border=\"1\" class=\"dataframe\">\n",
       "  <thead>\n",
       "    <tr style=\"text-align: right;\">\n",
       "      <th></th>\n",
       "      <th>Title</th>\n",
       "      <th>Content</th>\n",
       "      <th>Poetry Collection</th>\n",
       "      <th>URL</th>\n",
       "    </tr>\n",
       "  </thead>\n",
       "  <tbody>\n",
       "    <tr>\n",
       "      <th>count</th>\n",
       "      <td>339</td>\n",
       "      <td>339</td>\n",
       "      <td>339</td>\n",
       "      <td>339</td>\n",
       "    </tr>\n",
       "    <tr>\n",
       "      <th>unique</th>\n",
       "      <td>338</td>\n",
       "      <td>338</td>\n",
       "      <td>10</td>\n",
       "      <td>339</td>\n",
       "    </tr>\n",
       "    <tr>\n",
       "      <th>top</th>\n",
       "      <td>Không ai muốn mình bước đi mà trong mắt người ...</td>\n",
       "      <td>Không ai muốn mình bước đi mà trái tim vỡ ra n...</td>\n",
       "      <td>Đi qua thương nhớ (2012)</td>\n",
       "      <td>https://www.thivien.net/Nguy%E1%BB%85n-Phong-V...</td>\n",
       "    </tr>\n",
       "    <tr>\n",
       "      <th>freq</th>\n",
       "      <td>2</td>\n",
       "      <td>2</td>\n",
       "      <td>62</td>\n",
       "      <td>1</td>\n",
       "    </tr>\n",
       "  </tbody>\n",
       "</table>\n",
       "</div>"
      ],
      "text/plain": [
       "                                                    Title  \\\n",
       "count                                                 339   \n",
       "unique                                                338   \n",
       "top     Không ai muốn mình bước đi mà trong mắt người ...   \n",
       "freq                                                    2   \n",
       "\n",
       "                                                  Content  \\\n",
       "count                                                 339   \n",
       "unique                                                338   \n",
       "top     Không ai muốn mình bước đi mà trái tim vỡ ra n...   \n",
       "freq                                                    2   \n",
       "\n",
       "               Poetry Collection  \\\n",
       "count                        339   \n",
       "unique                        10   \n",
       "top     Đi qua thương nhớ (2012)   \n",
       "freq                          62   \n",
       "\n",
       "                                                      URL  \n",
       "count                                                 339  \n",
       "unique                                                339  \n",
       "top     https://www.thivien.net/Nguy%E1%BB%85n-Phong-V...  \n",
       "freq                                                    1  "
      ]
     },
     "execution_count": 12,
     "metadata": {},
     "output_type": "execute_result"
    }
   ],
   "source": [
    "dataset.describe()"
   ]
  },
  {
   "cell_type": "code",
   "execution_count": 17,
   "metadata": {},
   "outputs": [
    {
     "data": {
      "text/plain": [
       "array(['Đi qua thương nhớ (2012)', 'Từ yêu đến thương (2013)',\n",
       "       'Sinh ra để cô đơn (2014)', 'Sống một cuộc đời bình thường (2015)',\n",
       "       'Về đâu những vết thương (2016)',\n",
       "       'Sao phải đau đến như vậy (2017)',\n",
       "       'Chỉ cần tin mình là duy nhất (2018)',\n",
       "       'Mình sẽ đi cuối đất cùng trời (2019)',\n",
       "       'Bao nhiêu thương nhớ cho vừa (2020)',\n",
       "       'Đã đi qua thương nhớ (2021)'], dtype=object)"
      ]
     },
     "execution_count": 17,
     "metadata": {},
     "output_type": "execute_result"
    }
   ],
   "source": [
    "dataset['Poetry Collection'].unique()\n"
   ]
  },
  {
   "cell_type": "code",
   "execution_count": 18,
   "metadata": {},
   "outputs": [
    {
     "data": {
      "text/plain": [
       "Title                0\n",
       "Content              0\n",
       "Poetry Collection    0\n",
       "URL                  0\n",
       "dtype: int64"
      ]
     },
     "execution_count": 18,
     "metadata": {},
     "output_type": "execute_result"
    }
   ],
   "source": [
    "dataset.isnull().sum()"
   ]
  },
  {
   "cell_type": "markdown",
   "metadata": {},
   "source": [
    "3. Preprocess dataset"
   ]
  },
  {
   "cell_type": "code",
   "execution_count": null,
   "metadata": {},
   "outputs": [],
   "source": []
  }
 ],
 "metadata": {
  "kernelspec": {
   "display_name": "project1",
   "language": "python",
   "name": "python3"
  },
  "language_info": {
   "codemirror_mode": {
    "name": "ipython",
    "version": 3
   },
   "file_extension": ".py",
   "mimetype": "text/x-python",
   "name": "python",
   "nbconvert_exporter": "python",
   "pygments_lexer": "ipython3",
   "version": "3.9.0"
  }
 },
 "nbformat": 4,
 "nbformat_minor": 2
}
